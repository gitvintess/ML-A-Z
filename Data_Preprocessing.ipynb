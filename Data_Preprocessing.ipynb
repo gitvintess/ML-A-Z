{
  "nbformat": 4,
  "nbformat_minor": 0,
  "metadata": {
    "colab": {
      "name": "Data_Preprocessing.ipynb",
      "version": "0.3.2",
      "provenance": [],
      "private_outputs": true,
      "collapsed_sections": [],
      "include_colab_link": true
    },
    "kernelspec": {
      "name": "python3",
      "display_name": "Python 3"
    },
    "accelerator": "TPU"
  },
  "cells": [
    {
      "cell_type": "markdown",
      "metadata": {
        "id": "view-in-github",
        "colab_type": "text"
      },
      "source": [
        "<a href=\"https://colab.research.google.com/github/gitvintess/ML-A-Z/blob/master/Data_Preprocessing.ipynb\" target=\"_parent\"><img src=\"https://colab.research.google.com/assets/colab-badge.svg\" alt=\"Open In Colab\"/></a>"
      ]
    },
    {
      "metadata": {
        "id": "9d00lSpUA3f2",
        "colab_type": "text"
      },
      "cell_type": "markdown",
      "source": [
        "Importing libraries\n"
      ]
    },
    {
      "metadata": {
        "id": "V-KX7a4OrnZQ",
        "colab_type": "code",
        "colab": {}
      },
      "cell_type": "code",
      "source": [
        "import numpy as np  #to use any type of mathematics\n",
        "import matplotlib.pyplot as plt  #Used for plotting everything\n",
        "import pandas as pd"
      ],
      "execution_count": 0,
      "outputs": []
    },
    {
      "metadata": {
        "id": "z8GtkOsiBA-n",
        "colab_type": "code",
        "colab": {}
      },
      "cell_type": "code",
      "source": [
        "from google.colab import drive\n",
        "drive.mount('/content/gdrive')"
      ],
      "execution_count": 0,
      "outputs": []
    },
    {
      "metadata": {
        "id": "5b5UAxn5sfSF",
        "colab_type": "text"
      },
      "cell_type": "markdown",
      "source": [
        "Importing the dataset\n"
      ]
    },
    {
      "metadata": {
        "id": "-5GSWIq6sjir",
        "colab_type": "code",
        "colab": {}
      },
      "cell_type": "code",
      "source": [
        "!wget http://www.superdatascience.com/wp-content/uploads/2017/02/Data_Preprocessing.zip\n",
        "!unzip Data_Preprocessing.zip -d gdrive/My\\ \\Drive/ML\\ \\A-Z\n"
      ],
      "execution_count": 0,
      "outputs": []
    },
    {
      "metadata": {
        "id": "_DRtxGM73R3X",
        "colab_type": "code",
        "colab": {}
      },
      "cell_type": "code",
      "source": [
        "dataset = pd.read_csv('gdrive/My Drive/ML A-Z/Data_Preprocessing/Data.csv')"
      ],
      "execution_count": 0,
      "outputs": []
    },
    {
      "metadata": {
        "id": "KPxm38DsCGpN",
        "colab_type": "code",
        "colab": {}
      },
      "cell_type": "code",
      "source": [
        "X=dataset.iloc[:, :-1].values\n",
        "y=dataset.iloc[:, 3].values\n",
        "\n"
      ],
      "execution_count": 0,
      "outputs": []
    },
    {
      "metadata": {
        "id": "i1yai3lJD3Ku",
        "colab_type": "text"
      },
      "cell_type": "markdown",
      "source": [
        "Taking care of missing data\n"
      ]
    },
    {
      "metadata": {
        "id": "NFtE7oh7DHLM",
        "colab_type": "code",
        "colab": {}
      },
      "cell_type": "code",
      "source": [
        "from sklearn.preprocessing import Imputer   #imputer class used to take care of missing data\n",
        "imputer=Imputer(missing_values='NaN', strategy='mean', axis=0) #making object imputer for class Imputer\n",
        "imputer=imputer.fit(X[:, 1:3])\n",
        "X[:, 1:3]=imputer.transform(X[:, 1:3])\n",
        "X\n"
      ],
      "execution_count": 0,
      "outputs": []
    },
    {
      "metadata": {
        "id": "UvA1ETCkGvhZ",
        "colab_type": "text"
      },
      "cell_type": "markdown",
      "source": [
        "Entering categorical data"
      ]
    },
    {
      "metadata": {
        "id": "U6jSWKLTC1dF",
        "colab_type": "code",
        "colab": {}
      },
      "cell_type": "code",
      "source": [
        "from sklearn.preprocessing import LabelEncoder\n",
        "labelencoder_X=LabelEncoder[]\n",
        "labelencoder_X.fit_transform(X[:, 0,4])"
      ],
      "execution_count": 0,
      "outputs": []
    }
  ]
}