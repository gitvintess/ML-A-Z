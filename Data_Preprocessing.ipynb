{
  "nbformat": 4,
  "nbformat_minor": 0,
  "metadata": {
    "colab": {
      "name": "Data_Preprocessing.ipynb",
      "version": "0.3.2",
      "provenance": [],
      "private_outputs": true,
      "collapsed_sections": [],
      "include_colab_link": true
    },
    "kernelspec": {
      "name": "python3",
      "display_name": "Python 3"
    },
    "accelerator": "TPU"
  },
  "cells": [
    {
      "cell_type": "markdown",
      "metadata": {
        "id": "view-in-github",
        "colab_type": "text"
      },
      "source": [
        "<a href=\"https://colab.research.google.com/github/gitvintess/ML-A-Z/blob/master/Data_Preprocessing.ipynb\" target=\"_parent\"><img src=\"https://colab.research.google.com/assets/colab-badge.svg\" alt=\"Open In Colab\"/></a>"
      ]
    },
    {
      "metadata": {
        "id": "QzWCcnZotR62",
        "colab_type": "text"
      },
      "cell_type": "markdown",
      "source": [
        "Mounting Google Drive"
      ]
    },
    {
      "metadata": {
        "colab_type": "code",
        "id": "fCQp2zJ0seJ6",
        "colab": {}
      },
      "cell_type": "code",
      "source": [
        "from google.colab import drive\n",
        "drive.mount('/content/gdrive')"
      ],
      "execution_count": 0,
      "outputs": []
    },
    {
      "metadata": {
        "id": "9d00lSpUA3f2",
        "colab_type": "text"
      },
      "cell_type": "markdown",
      "source": [
        "Importing libraries\n"
      ]
    },
    {
      "metadata": {
        "id": "V-KX7a4OrnZQ",
        "colab_type": "code",
        "colab": {}
      },
      "cell_type": "code",
      "source": [
        "import numpy as np  #to use any type of mathematics\n",
        "import matplotlib.pyplot as plt  #Used for plotting everything\n",
        "import pandas as pd"
      ],
      "execution_count": 0,
      "outputs": []
    },
    {
      "metadata": {
        "id": "5b5UAxn5sfSF",
        "colab_type": "text"
      },
      "cell_type": "markdown",
      "source": [
        "Importing the dataset\n"
      ]
    },
    {
      "metadata": {
        "id": "-5GSWIq6sjir",
        "colab_type": "code",
        "colab": {}
      },
      "cell_type": "code",
      "source": [
        "!wget http://www.superdatascience.com/wp-content/uploads/2017/02/Data_Preprocessing.zip\n",
        "!unzip Data_Preprocessing.zip -d gdrive/My\\ \\Drive/ML\\ \\A-Z"
      ],
      "execution_count": 0,
      "outputs": []
    },
    {
      "metadata": {
        "id": "_DRtxGM73R3X",
        "colab_type": "code",
        "colab": {}
      },
      "cell_type": "code",
      "source": [
        "dataset = pd.read_csv('gdrive/My Drive/ML A-Z/Data_Preprocessing/Data.csv')"
      ],
      "execution_count": 0,
      "outputs": []
    },
    {
      "metadata": {
        "id": "KPxm38DsCGpN",
        "colab_type": "code",
        "colab": {}
      },
      "cell_type": "code",
      "source": [
        "X=dataset.iloc[:, :-1].values\n",
        "y=dataset.iloc[:, 3].values"
      ],
      "execution_count": 0,
      "outputs": []
    },
    {
      "metadata": {
        "colab_type": "text",
        "id": "mbnXGClasBnJ"
      },
      "cell_type": "markdown",
      "source": [
        "Taking care of missing data\n"
      ]
    },
    {
      "metadata": {
        "id": "eFVHBwymssyN",
        "colab_type": "code",
        "colab": {}
      },
      "cell_type": "code",
      "source": [
        "from sklearn.preprocessing import Imputer   #imputer class used to take care of missing data\n",
        "imputer=Imputer(missing_values='NaN', strategy='mean', axis=0) #making object imputer for class Imputer\n",
        "imputer=imputer.fit(X[:, 1:3])\n",
        "X[:, 1:3]=imputer.transform(X[:, 1:3])"
      ],
      "execution_count": 0,
      "outputs": []
    },
    {
      "metadata": {
        "colab_type": "text",
        "id": "yTB_pUTHsA_I"
      },
      "cell_type": "markdown",
      "source": [
        "Entering categorical data"
      ]
    },
    {
      "metadata": {
        "id": "AwzGhkPOsvg1",
        "colab_type": "code",
        "colab": {}
      },
      "cell_type": "code",
      "source": [
        "from sklearn.preprocessing import LabelEncoder , OneHotEncoder\n",
        "labelencoder_X=LabelEncoder()\n",
        "X[:,0]=labelencoder_X.fit_transform(X[:, 0])\n",
        "onehotencoder=OneHotEncoder(categorical_features=[0])\n",
        "labelencoder_y=LabelEncoder()\n",
        "y=labelencoder_y.fit_transform(y)"
      ],
      "execution_count": 0,
      "outputs": []
    },
    {
      "metadata": {
        "id": "5lRBjCaZlSx4",
        "colab_type": "text"
      },
      "cell_type": "markdown",
      "source": [
        "Splitting Dataset into Training set and Test set"
      ]
    },
    {
      "metadata": {
        "id": "Crne0_jDlXDk",
        "colab_type": "code",
        "colab": {}
      },
      "cell_type": "code",
      "source": [
        "from sklearn.cross_validation import train_test_split  #for importing the cross validation library\n",
        "X_train, X_test, y_train, y_test=train_test_split(X,y, test_size=0.2, random_state=0)"
      ],
      "execution_count": 0,
      "outputs": []
    },
    {
      "metadata": {
        "id": "WYuFzk28nZru",
        "colab_type": "text"
      },
      "cell_type": "markdown",
      "source": [
        "{{Feature Scaling}}"
      ]
    },
    {
      "metadata": {
        "id": "CtnkIRPzncPv",
        "colab_type": "code",
        "colab": {}
      },
      "cell_type": "code",
      "source": [
        "from sklearn.preprocessing import StandardScaler\n",
        "sc_X=StandardScaler()\n",
        "X_train=sc_X.fit_transform(X_train)\n",
        "X_test=sc_X.transform(X_test)"
      ],
      "execution_count": 0,
      "outputs": []
    }
  ]
}